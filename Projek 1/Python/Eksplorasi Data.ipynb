{
 "cells": [
  {
   "cell_type": "code",
   "execution_count": 1,
   "id": "04a151a4",
   "metadata": {},
   "outputs": [
    {
     "name": "stdout",
     "output_type": "stream",
     "text": [
      "Requirement already satisfied: mysql-connector-python in c:\\users\\thinkpad\\onedrive\\documents\\miniconda\\envs\\belajar\\lib\\site-packages (9.3.0)\n"
     ]
    }
   ],
   "source": [
    "!pip install mysql-connector-python"
   ]
  },
  {
   "cell_type": "code",
   "execution_count": 2,
   "id": "c0a03570",
   "metadata": {},
   "outputs": [
    {
     "name": "stdout",
     "output_type": "stream",
     "text": [
      "9.3.0\n"
     ]
    }
   ],
   "source": [
    "import mysql.connector\n",
    "print(mysql.connector.__version__)"
   ]
  },
  {
   "cell_type": "code",
   "execution_count": 3,
   "id": "6628b9ee",
   "metadata": {},
   "outputs": [
    {
     "name": "stdout",
     "output_type": "stream",
     "text": [
      "3.12.7 | packaged by Anaconda, Inc. | (main, Oct  4 2024, 13:17:27) [MSC v.1929 64 bit (AMD64)]\n"
     ]
    }
   ],
   "source": [
    "import sys\n",
    "print(sys.version)"
   ]
  },
  {
   "cell_type": "code",
   "execution_count": 4,
   "id": "5d6b6991",
   "metadata": {},
   "outputs": [],
   "source": [
    "import pandas as pd\n",
    "import seaborn as sns\n",
    "import matplotlib.pyplot as plt"
   ]
  },
  {
   "cell_type": "code",
   "execution_count": 5,
   "id": "67c1e8d5",
   "metadata": {},
   "outputs": [
    {
     "name": "stderr",
     "output_type": "stream",
     "text": [
      "C:\\Users\\ThinkPad\\AppData\\Local\\Temp\\ipykernel_12612\\472232362.py:14: UserWarning: pandas only supports SQLAlchemy connectable (engine/connection) or database string URI or sqlite3 DBAPI2 connection. Other DBAPI2 objects are not tested. Please consider using SQLAlchemy.\n",
      "  df = pd.read_sql(query, conn)\n"
     ]
    }
   ],
   "source": [
    "import mysql.connector\n",
    "import pandas as pd\n",
    "\n",
    "# Koneksi ke database MySQL\n",
    "conn = mysql.connector.connect(\n",
    "    host=\"localhost\",\n",
    "    user=\"root\",\n",
    "    password=\"bakwin250602\",   # ganti dengan password kamu\n",
    "    database=\"projek1\"          # ganti dengan nama database kamu\n",
    ")\n",
    "\n",
    "# Ambil data ke DataFrame\n",
    "query = \"SELECT * FROM superstore\"\n",
    "df = pd.read_sql(query, conn)\n",
    "\n",
    "conn.close()"
   ]
  },
  {
   "cell_type": "code",
   "execution_count": 6,
   "id": "0f58ab3e",
   "metadata": {},
   "outputs": [
    {
     "name": "stdout",
     "output_type": "stream",
     "text": [
      "<class 'pandas.core.frame.DataFrame'>\n",
      "RangeIndex: 5899 entries, 0 to 5898\n",
      "Data columns (total 21 columns):\n",
      " #   Column         Non-Null Count  Dtype  \n",
      "---  ------         --------------  -----  \n",
      " 0   Row_ID         5899 non-null   int64  \n",
      " 1   Order_ID       5899 non-null   object \n",
      " 2   Order_Date     5899 non-null   object \n",
      " 3   Ship_Date      5899 non-null   object \n",
      " 4   Ship_Mode      5899 non-null   object \n",
      " 5   Customer_ID    5899 non-null   object \n",
      " 6   Product_ID     5899 non-null   object \n",
      " 7   Customer_Name  5899 non-null   object \n",
      " 8   Segment        5899 non-null   object \n",
      " 9   Country        5899 non-null   object \n",
      " 10  City           5899 non-null   object \n",
      " 11  State          5899 non-null   object \n",
      " 12  Postal_Code    5899 non-null   object \n",
      " 13  Region         5899 non-null   object \n",
      " 14  Category       5899 non-null   object \n",
      " 15  Sub_Category   5899 non-null   object \n",
      " 16  Product_Name   5899 non-null   object \n",
      " 17  Sales          5899 non-null   float64\n",
      " 18  Quantity       5899 non-null   int64  \n",
      " 19  Discount       5899 non-null   float64\n",
      " 20  Profit         5899 non-null   float64\n",
      "dtypes: float64(3), int64(2), object(16)\n",
      "memory usage: 967.9+ KB\n"
     ]
    }
   ],
   "source": [
    "df.info()"
   ]
  },
  {
   "cell_type": "code",
   "execution_count": 7,
   "id": "34b7a6fe",
   "metadata": {},
   "outputs": [
    {
     "data": {
      "text/html": [
       "<div>\n",
       "<style scoped>\n",
       "    .dataframe tbody tr th:only-of-type {\n",
       "        vertical-align: middle;\n",
       "    }\n",
       "\n",
       "    .dataframe tbody tr th {\n",
       "        vertical-align: top;\n",
       "    }\n",
       "\n",
       "    .dataframe thead th {\n",
       "        text-align: right;\n",
       "    }\n",
       "</style>\n",
       "<table border=\"1\" class=\"dataframe\">\n",
       "  <thead>\n",
       "    <tr style=\"text-align: right;\">\n",
       "      <th></th>\n",
       "      <th>Row_ID</th>\n",
       "      <th>Sales</th>\n",
       "      <th>Quantity</th>\n",
       "      <th>Discount</th>\n",
       "      <th>Profit</th>\n",
       "    </tr>\n",
       "  </thead>\n",
       "  <tbody>\n",
       "    <tr>\n",
       "      <th>count</th>\n",
       "      <td>5899.000000</td>\n",
       "      <td>5899.000000</td>\n",
       "      <td>5899.000000</td>\n",
       "      <td>5899.000000</td>\n",
       "      <td>5899.000000</td>\n",
       "    </tr>\n",
       "    <tr>\n",
       "      <th>mean</th>\n",
       "      <td>5022.428208</td>\n",
       "      <td>227.567562</td>\n",
       "      <td>3.782506</td>\n",
       "      <td>0.155942</td>\n",
       "      <td>29.705889</td>\n",
       "    </tr>\n",
       "    <tr>\n",
       "      <th>std</th>\n",
       "      <td>2878.464633</td>\n",
       "      <td>622.985889</td>\n",
       "      <td>2.212972</td>\n",
       "      <td>0.205832</td>\n",
       "      <td>259.632959</td>\n",
       "    </tr>\n",
       "    <tr>\n",
       "      <th>min</th>\n",
       "      <td>1.000000</td>\n",
       "      <td>0.440000</td>\n",
       "      <td>1.000000</td>\n",
       "      <td>0.000000</td>\n",
       "      <td>-6599.980000</td>\n",
       "    </tr>\n",
       "    <tr>\n",
       "      <th>25%</th>\n",
       "      <td>2485.500000</td>\n",
       "      <td>17.475000</td>\n",
       "      <td>2.000000</td>\n",
       "      <td>0.000000</td>\n",
       "      <td>1.800000</td>\n",
       "    </tr>\n",
       "    <tr>\n",
       "      <th>50%</th>\n",
       "      <td>5091.000000</td>\n",
       "      <td>53.420000</td>\n",
       "      <td>3.000000</td>\n",
       "      <td>0.200000</td>\n",
       "      <td>8.500000</td>\n",
       "    </tr>\n",
       "    <tr>\n",
       "      <th>75%</th>\n",
       "      <td>7460.000000</td>\n",
       "      <td>206.050000</td>\n",
       "      <td>5.000000</td>\n",
       "      <td>0.200000</td>\n",
       "      <td>28.620000</td>\n",
       "    </tr>\n",
       "    <tr>\n",
       "      <th>max</th>\n",
       "      <td>9994.000000</td>\n",
       "      <td>17499.950000</td>\n",
       "      <td>14.000000</td>\n",
       "      <td>0.800000</td>\n",
       "      <td>8399.980000</td>\n",
       "    </tr>\n",
       "  </tbody>\n",
       "</table>\n",
       "</div>"
      ],
      "text/plain": [
       "            Row_ID         Sales     Quantity     Discount       Profit\n",
       "count  5899.000000   5899.000000  5899.000000  5899.000000  5899.000000\n",
       "mean   5022.428208    227.567562     3.782506     0.155942    29.705889\n",
       "std    2878.464633    622.985889     2.212972     0.205832   259.632959\n",
       "min       1.000000      0.440000     1.000000     0.000000 -6599.980000\n",
       "25%    2485.500000     17.475000     2.000000     0.000000     1.800000\n",
       "50%    5091.000000     53.420000     3.000000     0.200000     8.500000\n",
       "75%    7460.000000    206.050000     5.000000     0.200000    28.620000\n",
       "max    9994.000000  17499.950000    14.000000     0.800000  8399.980000"
      ]
     },
     "execution_count": 7,
     "metadata": {},
     "output_type": "execute_result"
    }
   ],
   "source": [
    "df.describe()"
   ]
  },
  {
   "cell_type": "markdown",
   "id": "d02c9dc3",
   "metadata": {},
   "source": [
    "Menampilkan data awal, ditampilkan 10 baris pertama dari tabel untuk eksplorasi awal struktur data"
   ]
  },
  {
   "cell_type": "code",
   "execution_count": 8,
   "id": "08a4ea1b",
   "metadata": {},
   "outputs": [
    {
     "data": {
      "text/html": [
       "<div>\n",
       "<style scoped>\n",
       "    .dataframe tbody tr th:only-of-type {\n",
       "        vertical-align: middle;\n",
       "    }\n",
       "\n",
       "    .dataframe tbody tr th {\n",
       "        vertical-align: top;\n",
       "    }\n",
       "\n",
       "    .dataframe thead th {\n",
       "        text-align: right;\n",
       "    }\n",
       "</style>\n",
       "<table border=\"1\" class=\"dataframe\">\n",
       "  <thead>\n",
       "    <tr style=\"text-align: right;\">\n",
       "      <th></th>\n",
       "      <th>Row_ID</th>\n",
       "      <th>Order_ID</th>\n",
       "      <th>Order_Date</th>\n",
       "      <th>Ship_Date</th>\n",
       "      <th>Ship_Mode</th>\n",
       "      <th>Customer_ID</th>\n",
       "      <th>Product_ID</th>\n",
       "      <th>Customer_Name</th>\n",
       "      <th>Segment</th>\n",
       "      <th>Country</th>\n",
       "      <th>...</th>\n",
       "      <th>State</th>\n",
       "      <th>Postal_Code</th>\n",
       "      <th>Region</th>\n",
       "      <th>Category</th>\n",
       "      <th>Sub_Category</th>\n",
       "      <th>Product_Name</th>\n",
       "      <th>Sales</th>\n",
       "      <th>Quantity</th>\n",
       "      <th>Discount</th>\n",
       "      <th>Profit</th>\n",
       "    </tr>\n",
       "  </thead>\n",
       "  <tbody>\n",
       "    <tr>\n",
       "      <th>0</th>\n",
       "      <td>1</td>\n",
       "      <td>CA-2016-152156</td>\n",
       "      <td>2016-11-08</td>\n",
       "      <td>2016-11-11</td>\n",
       "      <td>Second Class</td>\n",
       "      <td>CG-12520</td>\n",
       "      <td>FUR-BO-10001798</td>\n",
       "      <td>Claire Gute</td>\n",
       "      <td>Consumer</td>\n",
       "      <td>United States</td>\n",
       "      <td>...</td>\n",
       "      <td>Kentucky</td>\n",
       "      <td>42420</td>\n",
       "      <td>South</td>\n",
       "      <td>Furniture</td>\n",
       "      <td>Bookcases</td>\n",
       "      <td>Bush Somerset Collection Bookcase</td>\n",
       "      <td>261.96</td>\n",
       "      <td>2</td>\n",
       "      <td>0.0</td>\n",
       "      <td>41.91</td>\n",
       "    </tr>\n",
       "    <tr>\n",
       "      <th>1</th>\n",
       "      <td>2</td>\n",
       "      <td>CA-2016-152156</td>\n",
       "      <td>2016-11-08</td>\n",
       "      <td>2016-11-11</td>\n",
       "      <td>Second Class</td>\n",
       "      <td>CG-12520</td>\n",
       "      <td>FUR-CH-10000454</td>\n",
       "      <td>Claire Gute</td>\n",
       "      <td>Consumer</td>\n",
       "      <td>United States</td>\n",
       "      <td>...</td>\n",
       "      <td>Kentucky</td>\n",
       "      <td>42420</td>\n",
       "      <td>South</td>\n",
       "      <td>Furniture</td>\n",
       "      <td>Chairs</td>\n",
       "      <td>Hon Deluxe Fabric Upholstered Stacking Chairs,...</td>\n",
       "      <td>731.94</td>\n",
       "      <td>3</td>\n",
       "      <td>0.0</td>\n",
       "      <td>219.58</td>\n",
       "    </tr>\n",
       "    <tr>\n",
       "      <th>2</th>\n",
       "      <td>3</td>\n",
       "      <td>CA-2016-138688</td>\n",
       "      <td>2016-06-12</td>\n",
       "      <td>2016-06-16</td>\n",
       "      <td>Second Class</td>\n",
       "      <td>DV-13045</td>\n",
       "      <td>OFF-LA-10000240</td>\n",
       "      <td>Darrin Van Huff</td>\n",
       "      <td>Corporate</td>\n",
       "      <td>United States</td>\n",
       "      <td>...</td>\n",
       "      <td>California</td>\n",
       "      <td>90036</td>\n",
       "      <td>West</td>\n",
       "      <td>Office Supplies</td>\n",
       "      <td>Labels</td>\n",
       "      <td>Self-Adhesive Address Labels for Typewriters b...</td>\n",
       "      <td>14.62</td>\n",
       "      <td>2</td>\n",
       "      <td>0.0</td>\n",
       "      <td>6.87</td>\n",
       "    </tr>\n",
       "    <tr>\n",
       "      <th>3</th>\n",
       "      <td>13</td>\n",
       "      <td>CA-2017-114412</td>\n",
       "      <td>2017-04-15</td>\n",
       "      <td>2017-04-20</td>\n",
       "      <td>Standard Class</td>\n",
       "      <td>AA-10480</td>\n",
       "      <td>OFF-PA-10002365</td>\n",
       "      <td>Andrew Allen</td>\n",
       "      <td>Consumer</td>\n",
       "      <td>United States</td>\n",
       "      <td>...</td>\n",
       "      <td>North Carolina</td>\n",
       "      <td>28027</td>\n",
       "      <td>South</td>\n",
       "      <td>Office Supplies</td>\n",
       "      <td>Paper</td>\n",
       "      <td>Xerox 1967</td>\n",
       "      <td>15.55</td>\n",
       "      <td>3</td>\n",
       "      <td>0.2</td>\n",
       "      <td>5.44</td>\n",
       "    </tr>\n",
       "    <tr>\n",
       "      <th>4</th>\n",
       "      <td>14</td>\n",
       "      <td>CA-2016-161389</td>\n",
       "      <td>2016-12-05</td>\n",
       "      <td>2016-12-10</td>\n",
       "      <td>Standard Class</td>\n",
       "      <td>IM-15070</td>\n",
       "      <td>OFF-BI-10003656</td>\n",
       "      <td>Irene Maddox</td>\n",
       "      <td>Consumer</td>\n",
       "      <td>United States</td>\n",
       "      <td>...</td>\n",
       "      <td>Washington</td>\n",
       "      <td>98103</td>\n",
       "      <td>West</td>\n",
       "      <td>Office Supplies</td>\n",
       "      <td>Binders</td>\n",
       "      <td>Fellowes PB200 Plastic Comb Binding Machine</td>\n",
       "      <td>407.98</td>\n",
       "      <td>3</td>\n",
       "      <td>0.2</td>\n",
       "      <td>132.59</td>\n",
       "    </tr>\n",
       "    <tr>\n",
       "      <th>5</th>\n",
       "      <td>22</td>\n",
       "      <td>CA-2016-137330</td>\n",
       "      <td>2016-12-09</td>\n",
       "      <td>2016-12-13</td>\n",
       "      <td>Standard Class</td>\n",
       "      <td>KB-16585</td>\n",
       "      <td>OFF-AR-10000246</td>\n",
       "      <td>Ken Black</td>\n",
       "      <td>Corporate</td>\n",
       "      <td>United States</td>\n",
       "      <td>...</td>\n",
       "      <td>Nebraska</td>\n",
       "      <td>68025</td>\n",
       "      <td>Central</td>\n",
       "      <td>Office Supplies</td>\n",
       "      <td>Art</td>\n",
       "      <td>Newell 318</td>\n",
       "      <td>19.46</td>\n",
       "      <td>7</td>\n",
       "      <td>0.0</td>\n",
       "      <td>5.06</td>\n",
       "    </tr>\n",
       "    <tr>\n",
       "      <th>6</th>\n",
       "      <td>23</td>\n",
       "      <td>CA-2016-137330</td>\n",
       "      <td>2016-12-09</td>\n",
       "      <td>2016-12-13</td>\n",
       "      <td>Standard Class</td>\n",
       "      <td>KB-16585</td>\n",
       "      <td>OFF-AP-10001492</td>\n",
       "      <td>Ken Black</td>\n",
       "      <td>Corporate</td>\n",
       "      <td>United States</td>\n",
       "      <td>...</td>\n",
       "      <td>Nebraska</td>\n",
       "      <td>68025</td>\n",
       "      <td>Central</td>\n",
       "      <td>Office Supplies</td>\n",
       "      <td>Appliances</td>\n",
       "      <td>Acco Six-Outlet Power Strip, 4' Cord Length</td>\n",
       "      <td>60.34</td>\n",
       "      <td>7</td>\n",
       "      <td>0.0</td>\n",
       "      <td>15.69</td>\n",
       "    </tr>\n",
       "    <tr>\n",
       "      <th>7</th>\n",
       "      <td>24</td>\n",
       "      <td>US-2017-156909</td>\n",
       "      <td>2017-07-16</td>\n",
       "      <td>2017-07-18</td>\n",
       "      <td>Second Class</td>\n",
       "      <td>SF-20065</td>\n",
       "      <td>FUR-CH-10002774</td>\n",
       "      <td>Sandra Flanagan</td>\n",
       "      <td>Consumer</td>\n",
       "      <td>United States</td>\n",
       "      <td>...</td>\n",
       "      <td>Pennsylvania</td>\n",
       "      <td>19140</td>\n",
       "      <td>East</td>\n",
       "      <td>Furniture</td>\n",
       "      <td>Chairs</td>\n",
       "      <td>Global Deluxe Stacking Chair, Gray</td>\n",
       "      <td>71.37</td>\n",
       "      <td>2</td>\n",
       "      <td>0.3</td>\n",
       "      <td>-1.02</td>\n",
       "    </tr>\n",
       "    <tr>\n",
       "      <th>8</th>\n",
       "      <td>26</td>\n",
       "      <td>CA-2016-121755</td>\n",
       "      <td>2016-01-16</td>\n",
       "      <td>2016-01-20</td>\n",
       "      <td>Second Class</td>\n",
       "      <td>EH-13945</td>\n",
       "      <td>OFF-BI-10001634</td>\n",
       "      <td>Eric Hoffmann</td>\n",
       "      <td>Consumer</td>\n",
       "      <td>United States</td>\n",
       "      <td>...</td>\n",
       "      <td>California</td>\n",
       "      <td>90049</td>\n",
       "      <td>West</td>\n",
       "      <td>Office Supplies</td>\n",
       "      <td>Binders</td>\n",
       "      <td>Wilson Jones Active Use Binders</td>\n",
       "      <td>11.65</td>\n",
       "      <td>2</td>\n",
       "      <td>0.2</td>\n",
       "      <td>4.22</td>\n",
       "    </tr>\n",
       "    <tr>\n",
       "      <th>9</th>\n",
       "      <td>27</td>\n",
       "      <td>CA-2016-121755</td>\n",
       "      <td>2016-01-16</td>\n",
       "      <td>2016-01-20</td>\n",
       "      <td>Second Class</td>\n",
       "      <td>EH-13945</td>\n",
       "      <td>TEC-AC-10003027</td>\n",
       "      <td>Eric Hoffmann</td>\n",
       "      <td>Consumer</td>\n",
       "      <td>United States</td>\n",
       "      <td>...</td>\n",
       "      <td>California</td>\n",
       "      <td>90049</td>\n",
       "      <td>West</td>\n",
       "      <td>Technology</td>\n",
       "      <td>Accessories</td>\n",
       "      <td>Imation 8GB Mini TravelDrive USB 2.0 Flash Drive</td>\n",
       "      <td>90.57</td>\n",
       "      <td>3</td>\n",
       "      <td>0.0</td>\n",
       "      <td>11.77</td>\n",
       "    </tr>\n",
       "  </tbody>\n",
       "</table>\n",
       "<p>10 rows × 21 columns</p>\n",
       "</div>"
      ],
      "text/plain": [
       "   Row_ID        Order_ID  Order_Date   Ship_Date       Ship_Mode Customer_ID  \\\n",
       "0       1  CA-2016-152156  2016-11-08  2016-11-11    Second Class    CG-12520   \n",
       "1       2  CA-2016-152156  2016-11-08  2016-11-11    Second Class    CG-12520   \n",
       "2       3  CA-2016-138688  2016-06-12  2016-06-16    Second Class    DV-13045   \n",
       "3      13  CA-2017-114412  2017-04-15  2017-04-20  Standard Class    AA-10480   \n",
       "4      14  CA-2016-161389  2016-12-05  2016-12-10  Standard Class    IM-15070   \n",
       "5      22  CA-2016-137330  2016-12-09  2016-12-13  Standard Class    KB-16585   \n",
       "6      23  CA-2016-137330  2016-12-09  2016-12-13  Standard Class    KB-16585   \n",
       "7      24  US-2017-156909  2017-07-16  2017-07-18    Second Class    SF-20065   \n",
       "8      26  CA-2016-121755  2016-01-16  2016-01-20    Second Class    EH-13945   \n",
       "9      27  CA-2016-121755  2016-01-16  2016-01-20    Second Class    EH-13945   \n",
       "\n",
       "        Product_ID    Customer_Name    Segment        Country  ...  \\\n",
       "0  FUR-BO-10001798      Claire Gute   Consumer  United States  ...   \n",
       "1  FUR-CH-10000454      Claire Gute   Consumer  United States  ...   \n",
       "2  OFF-LA-10000240  Darrin Van Huff  Corporate  United States  ...   \n",
       "3  OFF-PA-10002365     Andrew Allen   Consumer  United States  ...   \n",
       "4  OFF-BI-10003656     Irene Maddox   Consumer  United States  ...   \n",
       "5  OFF-AR-10000246        Ken Black  Corporate  United States  ...   \n",
       "6  OFF-AP-10001492        Ken Black  Corporate  United States  ...   \n",
       "7  FUR-CH-10002774  Sandra Flanagan   Consumer  United States  ...   \n",
       "8  OFF-BI-10001634    Eric Hoffmann   Consumer  United States  ...   \n",
       "9  TEC-AC-10003027    Eric Hoffmann   Consumer  United States  ...   \n",
       "\n",
       "            State Postal_Code   Region         Category Sub_Category  \\\n",
       "0        Kentucky       42420    South        Furniture    Bookcases   \n",
       "1        Kentucky       42420    South        Furniture       Chairs   \n",
       "2      California       90036     West  Office Supplies       Labels   \n",
       "3  North Carolina       28027    South  Office Supplies        Paper   \n",
       "4      Washington       98103     West  Office Supplies      Binders   \n",
       "5        Nebraska       68025  Central  Office Supplies          Art   \n",
       "6        Nebraska       68025  Central  Office Supplies   Appliances   \n",
       "7    Pennsylvania       19140     East        Furniture       Chairs   \n",
       "8      California       90049     West  Office Supplies      Binders   \n",
       "9      California       90049     West       Technology  Accessories   \n",
       "\n",
       "                                        Product_Name   Sales  Quantity  \\\n",
       "0                  Bush Somerset Collection Bookcase  261.96         2   \n",
       "1  Hon Deluxe Fabric Upholstered Stacking Chairs,...  731.94         3   \n",
       "2  Self-Adhesive Address Labels for Typewriters b...   14.62         2   \n",
       "3                                         Xerox 1967   15.55         3   \n",
       "4        Fellowes PB200 Plastic Comb Binding Machine  407.98         3   \n",
       "5                                         Newell 318   19.46         7   \n",
       "6        Acco Six-Outlet Power Strip, 4' Cord Length   60.34         7   \n",
       "7                 Global Deluxe Stacking Chair, Gray   71.37         2   \n",
       "8                    Wilson Jones Active Use Binders   11.65         2   \n",
       "9   Imation 8GB Mini TravelDrive USB 2.0 Flash Drive   90.57         3   \n",
       "\n",
       "   Discount  Profit  \n",
       "0       0.0   41.91  \n",
       "1       0.0  219.58  \n",
       "2       0.0    6.87  \n",
       "3       0.2    5.44  \n",
       "4       0.2  132.59  \n",
       "5       0.0    5.06  \n",
       "6       0.0   15.69  \n",
       "7       0.3   -1.02  \n",
       "8       0.2    4.22  \n",
       "9       0.0   11.77  \n",
       "\n",
       "[10 rows x 21 columns]"
      ]
     },
     "execution_count": 8,
     "metadata": {},
     "output_type": "execute_result"
    }
   ],
   "source": [
    "df.head(10)"
   ]
  },
  {
   "cell_type": "markdown",
   "id": "640aa5a8",
   "metadata": {},
   "source": [
    "Cek duplikasi, dilakukan dengan menggunakan kombinasi kolom logis seperti Order_ID, Product_ID, Quantity, Sales, Discount, dan Profit."
   ]
  },
  {
   "cell_type": "code",
   "execution_count": 9,
   "id": "9dc12844",
   "metadata": {},
   "outputs": [
    {
     "name": "stdout",
     "output_type": "stream",
     "text": [
      "Empty DataFrame\n",
      "Columns: [Row_ID, Order_ID, Order_Date, Ship_Date, Ship_Mode, Customer_ID, Product_ID, Customer_Name, Segment, Country, City, State, Postal_Code, Region, Category, Sub_Category, Product_Name, Sales, Quantity, Discount, Profit]\n",
      "Index: []\n",
      "\n",
      "[0 rows x 21 columns]\n"
     ]
    }
   ],
   "source": [
    "# Cek duplikat berdasarkan kombinasi 6 kolom\n",
    "duplikat = df.duplicated(subset=['Order_ID', 'Product_ID', 'Quantity', 'Sales', 'Discount', 'Profit'])\n",
    "\n",
    "# Tampilkan semua baris yang duplikat\n",
    "df_duplikat = df[duplikat]\n",
    "print(df_duplikat)"
   ]
  },
  {
   "cell_type": "markdown",
   "id": "98f25398",
   "metadata": {},
   "source": [
    "Cek data kosong (NULL), analisis menyeluruh dilakukan pada semua kolom untuk mendeteksi nilai yang kosong."
   ]
  },
  {
   "cell_type": "code",
   "execution_count": 10,
   "id": "43482d34",
   "metadata": {},
   "outputs": [
    {
     "name": "stdout",
     "output_type": "stream",
     "text": [
      "Empty DataFrame\n",
      "Columns: [Jumlah Kosong, Persentase (%)]\n",
      "Index: []\n"
     ]
    }
   ],
   "source": [
    "# Cek jumlah nilai kosong (NaN / NULL) per kolom\n",
    "missing_per_column = df.isnull().sum()\n",
    "\n",
    "# Hitung total nilai kosong\n",
    "total_missing = df.isnull().sum().sum()\n",
    "\n",
    "# Persentase data kosong per kolom\n",
    "missing_percentage = (df.isnull().sum() / len(df)) * 100\n",
    "\n",
    "# Gabungkan jadi tabel ringkasan\n",
    "missing_summary = pd.DataFrame({\n",
    "    \"Jumlah Kosong\": missing_per_column,\n",
    "    \"Persentase (%)\": missing_percentage\n",
    "})\n",
    "\n",
    "# Tampilkan kolom yang punya nilai kosong saja\n",
    "missing_summary = missing_summary[missing_summary[\"Jumlah Kosong\"] > 0]\n",
    "print(missing_summary)"
   ]
  },
  {
   "cell_type": "markdown",
   "id": "af31a7a4",
   "metadata": {},
   "source": [
    "Preprocessing"
   ]
  },
  {
   "cell_type": "markdown",
   "id": "0443b63b",
   "metadata": {},
   "source": [
    "Mengubah Type Data Order_Date dan Ship_Date"
   ]
  },
  {
   "cell_type": "code",
   "execution_count": 11,
   "id": "00cc8532",
   "metadata": {},
   "outputs": [],
   "source": [
    "# Coba konversi dua kolom ke format datetime\n",
    "df['Order_Date'] = pd.to_datetime(df['Order_Date'], format='%Y-%m-%d', errors='coerce')\n",
    "df['Ship_Date'] = pd.to_datetime(df['Ship_Date'], format='%Y-%m-%d', errors='coerce')"
   ]
  },
  {
   "cell_type": "markdown",
   "id": "57b89b16",
   "metadata": {},
   "source": [
    "Menghapus kolom duplikat dengan 6 kolom dengan Order_ID, Product_ID, Quantity, Sales, Discount, dan Profit sama"
   ]
  },
  {
   "cell_type": "code",
   "execution_count": 12,
   "id": "5e382c43",
   "metadata": {},
   "outputs": [],
   "source": [
    "df = df.drop_duplicates(\n",
    "    subset=['Order_ID', 'Product_ID', 'Quantity', 'Sales', 'Discount', 'Profit'],\n",
    "    keep='first'\n",
    ")"
   ]
  },
  {
   "cell_type": "code",
   "execution_count": 13,
   "id": "06012e3d",
   "metadata": {},
   "outputs": [
    {
     "name": "stdout",
     "output_type": "stream",
     "text": [
      "<class 'pandas.core.frame.DataFrame'>\n",
      "RangeIndex: 5899 entries, 0 to 5898\n",
      "Data columns (total 21 columns):\n",
      " #   Column         Non-Null Count  Dtype         \n",
      "---  ------         --------------  -----         \n",
      " 0   Row_ID         5899 non-null   int64         \n",
      " 1   Order_ID       5899 non-null   object        \n",
      " 2   Order_Date     5899 non-null   datetime64[ns]\n",
      " 3   Ship_Date      5899 non-null   datetime64[ns]\n",
      " 4   Ship_Mode      5899 non-null   object        \n",
      " 5   Customer_ID    5899 non-null   object        \n",
      " 6   Product_ID     5899 non-null   object        \n",
      " 7   Customer_Name  5899 non-null   object        \n",
      " 8   Segment        5899 non-null   object        \n",
      " 9   Country        5899 non-null   object        \n",
      " 10  City           5899 non-null   object        \n",
      " 11  State          5899 non-null   object        \n",
      " 12  Postal_Code    5899 non-null   object        \n",
      " 13  Region         5899 non-null   object        \n",
      " 14  Category       5899 non-null   object        \n",
      " 15  Sub_Category   5899 non-null   object        \n",
      " 16  Product_Name   5899 non-null   object        \n",
      " 17  Sales          5899 non-null   float64       \n",
      " 18  Quantity       5899 non-null   int64         \n",
      " 19  Discount       5899 non-null   float64       \n",
      " 20  Profit         5899 non-null   float64       \n",
      "dtypes: datetime64[ns](2), float64(3), int64(2), object(14)\n",
      "memory usage: 967.9+ KB\n"
     ]
    }
   ],
   "source": [
    "df.info()"
   ]
  },
  {
   "cell_type": "markdown",
   "id": "67316b41",
   "metadata": {},
   "source": [
    "Analisis Statistik dan Distribusi Data"
   ]
  },
  {
   "cell_type": "code",
   "execution_count": 14,
   "id": "649a29e5",
   "metadata": {},
   "outputs": [
    {
     "data": {
      "text/html": [
       "<div>\n",
       "<style scoped>\n",
       "    .dataframe tbody tr th:only-of-type {\n",
       "        vertical-align: middle;\n",
       "    }\n",
       "\n",
       "    .dataframe tbody tr th {\n",
       "        vertical-align: top;\n",
       "    }\n",
       "\n",
       "    .dataframe thead th {\n",
       "        text-align: right;\n",
       "    }\n",
       "</style>\n",
       "<table border=\"1\" class=\"dataframe\">\n",
       "  <thead>\n",
       "    <tr style=\"text-align: right;\">\n",
       "      <th></th>\n",
       "      <th>Sales</th>\n",
       "      <th>Profit</th>\n",
       "      <th>Discount</th>\n",
       "    </tr>\n",
       "  </thead>\n",
       "  <tbody>\n",
       "    <tr>\n",
       "      <th>count</th>\n",
       "      <td>5899.000000</td>\n",
       "      <td>5899.000000</td>\n",
       "      <td>5899.000000</td>\n",
       "    </tr>\n",
       "    <tr>\n",
       "      <th>mean</th>\n",
       "      <td>227.567562</td>\n",
       "      <td>29.705889</td>\n",
       "      <td>0.155942</td>\n",
       "    </tr>\n",
       "    <tr>\n",
       "      <th>std</th>\n",
       "      <td>622.985889</td>\n",
       "      <td>259.632959</td>\n",
       "      <td>0.205832</td>\n",
       "    </tr>\n",
       "    <tr>\n",
       "      <th>min</th>\n",
       "      <td>0.440000</td>\n",
       "      <td>-6599.980000</td>\n",
       "      <td>0.000000</td>\n",
       "    </tr>\n",
       "    <tr>\n",
       "      <th>25%</th>\n",
       "      <td>17.475000</td>\n",
       "      <td>1.800000</td>\n",
       "      <td>0.000000</td>\n",
       "    </tr>\n",
       "    <tr>\n",
       "      <th>50%</th>\n",
       "      <td>53.420000</td>\n",
       "      <td>8.500000</td>\n",
       "      <td>0.200000</td>\n",
       "    </tr>\n",
       "    <tr>\n",
       "      <th>75%</th>\n",
       "      <td>206.050000</td>\n",
       "      <td>28.620000</td>\n",
       "      <td>0.200000</td>\n",
       "    </tr>\n",
       "    <tr>\n",
       "      <th>max</th>\n",
       "      <td>17499.950000</td>\n",
       "      <td>8399.980000</td>\n",
       "      <td>0.800000</td>\n",
       "    </tr>\n",
       "  </tbody>\n",
       "</table>\n",
       "</div>"
      ],
      "text/plain": [
       "              Sales       Profit     Discount\n",
       "count   5899.000000  5899.000000  5899.000000\n",
       "mean     227.567562    29.705889     0.155942\n",
       "std      622.985889   259.632959     0.205832\n",
       "min        0.440000 -6599.980000     0.000000\n",
       "25%       17.475000     1.800000     0.000000\n",
       "50%       53.420000     8.500000     0.200000\n",
       "75%      206.050000    28.620000     0.200000\n",
       "max    17499.950000  8399.980000     0.800000"
      ]
     },
     "execution_count": 14,
     "metadata": {},
     "output_type": "execute_result"
    }
   ],
   "source": [
    "df[['Sales', 'Profit', 'Discount']].describe()"
   ]
  },
  {
   "cell_type": "markdown",
   "id": "bcd5a928",
   "metadata": {},
   "source": [
    "Pertanyaan Bisnis?\n",
    "Problem Framing\n",
    "1. Produk mana yang paling laris?\n",
    "2. Apakah diskon meningkatkan penjualan atau malah menurunkan profit?\n",
    "3. Wilayah mana yang perlu ditingkatkan pemasarannya?"
   ]
  },
  {
   "cell_type": "markdown",
   "id": "b27b119b",
   "metadata": {},
   "source": [
    "1. Produk mana yang paling laris?"
   ]
  },
  {
   "cell_type": "code",
   "execution_count": 15,
   "id": "b897e3c1",
   "metadata": {},
   "outputs": [
    {
     "data": {
      "image/png": "[encoded data removed]",
      "text/plain": [
       "<Figure size 1000x600 with 1 Axes>"
      ]
     },
     "metadata": {},
     "output_type": "display_data"
    }
   ],
   "source": [
    "# Hitung total quantity untuk setiap produk\n",
    "produk_terlaris = df.groupby('Product_Name')['Quantity'].sum().reset_index()\n",
    "\n",
    "# Urutkan dari yang paling banyak terjual\n",
    "produk_terlaris = produk_terlaris.sort_values(by='Quantity', ascending=False)\n",
    "\n",
    "# Ambil 10 produk paling laris\n",
    "top10 = produk_terlaris.head(10)\n",
    "\n",
    "# Plot bar chart horizontal\n",
    "plt.figure(figsize=(10, 6))\n",
    "bars = plt.barh(top10['Product_Name'][::-1], top10['Quantity'][::-1], color='steelblue')\n",
    "plt.xlabel('Jumlah Unit Terjual')\n",
    "plt.title('10 Produk Paling Laris')\n",
    "\n",
    "# Tambahkan label jumlah di ujung tiap bar\n",
    "for bar in bars:\n",
    "    width = bar.get_width()\n",
    "    plt.text(width + 1, bar.get_y() + bar.get_height()/2,\n",
    "             str(int(width)), va='center')\n",
    "\n",
    "plt.tight_layout()\n",
    "plt.show()"
   ]
  },
  {
   "cell_type": "markdown",
   "id": "6e987e16",
   "metadata": {},
   "source": [
    "2. Apakah diskon meningkatkan penjualan atau malah menurunkan profit?"
   ]
  },
  {
   "cell_type": "code",
   "execution_count": 16,
   "id": "149437ac",
   "metadata": {},
   "outputs": [
    {
     "name": "stdout",
     "output_type": "stream",
     "text": [
      "Korelasi antara Discount dan Profit: -0.20115451815954347\n"
     ]
    }
   ],
   "source": [
    "correlation = df['Discount'].corr(df['Profit'])\n",
    "print(f\"Korelasi antara Discount dan Profit: {correlation}\")"
   ]
  },
  {
   "cell_type": "code",
   "execution_count": 17,
   "id": "d4b7f350",
   "metadata": {},
   "outputs": [
    {
     "data": {
      "image/png": "[encoded data removed]",
      "text/plain": [
       "<Figure size 800x500 with 1 Axes>"
      ]
     },
     "metadata": {},
     "output_type": "display_data"
    }
   ],
   "source": [
    "# Ukuran figure\n",
    "plt.figure(figsize=(8, 5))\n",
    "\n",
    "# Scatterplot\n",
    "sns.scatterplot(x='Discount', y='Profit', data=df)\n",
    "\n",
    "# Garis tren (regresi linear)\n",
    "sns.regplot(x='Discount', y='Profit', data=df, scatter=False, color='red')\n",
    "\n",
    "# Judul dan label\n",
    "plt.title('Korelasi antara Discount dan Profit')\n",
    "plt.xlabel('Discount')\n",
    "plt.ylabel('Profit')\n",
    "\n",
    "# Tampilkan plot\n",
    "plt.show()"
   ]
  },
  {
   "cell_type": "markdown",
   "id": "ae7b363e",
   "metadata": {},
   "source": [
    "3. Wilayah mana yang perlu ditingkatkan pemasarannya?"
   ]
  },
  {
   "cell_type": "code",
   "execution_count": 18,
   "id": "0fb68fca",
   "metadata": {},
   "outputs": [
    {
     "name": "stdout",
     "output_type": "stream",
     "text": [
      "    Region      Sales    Profit  Order_ID  Avg_Profit_per_Order\n",
      "2    South  216516.05  26551.91       487             54.521376\n",
      "0  Central  294527.48  27450.10       711             38.607736\n",
      "1     East  393768.90  53372.15       844             63.237145\n",
      "3     West  437608.62  67860.88       960             70.688417\n"
     ]
    },
    {
     "data": {
      "image/png": "[encoded data removed]",
      "text/plain": [
       "<Figure size 800x500 with 1 Axes>"
      ]
     },
     "metadata": {},
     "output_type": "display_data"
    }
   ],
   "source": [
    "# Hitung total transaksi, penjualan, dan profit per region\n",
    "region_stats = df.groupby('Region').agg({\n",
    "    'Sales': 'sum',\n",
    "    'Profit': 'sum',\n",
    "    'Order_ID': 'nunique'\n",
    "}).reset_index()\n",
    "\n",
    "# Tambahkan kolom rata-rata profit per order\n",
    "region_stats['Avg_Profit_per_Order'] = region_stats['Profit'] / region_stats['Order_ID']\n",
    "\n",
    "# Urutkan berdasarkan total sales (penjualan)\n",
    "region_stats = region_stats.sort_values(by='Sales', ascending=True)\n",
    "\n",
    "# Tampilkan data summary\n",
    "print(region_stats)\n",
    "\n",
    "# Visualisasi: Total Sales per Region\n",
    "plt.figure(figsize=(8,5))\n",
    "bars = plt.bar(region_stats['Region'], region_stats['Sales'], color='coral')\n",
    "plt.title('Total Penjualan per Region')\n",
    "plt.ylabel('Total Sales')\n",
    "plt.xlabel('Region')\n",
    "\n",
    "# Tambahkan label total sales pada bar\n",
    "for bar in bars:\n",
    "    height = bar.get_height()\n",
    "    plt.text(bar.get_x() + bar.get_width()/2, height + 5000, f'{height:,.0f}',\n",
    "             ha='center', va='bottom', fontsize=10)\n",
    "\n",
    "plt.tight_layout()\n",
    "plt.show()"
   ]
  }
 ],
 "metadata": {
  "kernelspec": {
   "display_name": "belajar",
   "language": "python",
   "name": "python3"
  },
  "language_info": {
   "codemirror_mode": {
    "name": "ipython",
    "version": 3
   },
   "file_extension": ".py",
   "mimetype": "text/x-python",
   "name": "python",
   "nbconvert_exporter": "python",
   "pygments_lexer": "ipython3",
   "version": "3.12.7"
  }
 },
 "nbformat": 4,
 "nbformat_minor": 5
}
